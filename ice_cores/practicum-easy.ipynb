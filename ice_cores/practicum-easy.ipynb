{
 "cells": [
  {
   "cell_type": "markdown",
   "id": "ab6d291e",
   "metadata": {},
   "source": [
    "## Часть первая: Содержание CO$_2$\n",
    "\n",
    "- Откройте в блокноте файл `data/easy/edc-co2-2008.txt` \n",
    "- Единицы измерения возраста?\n",
    "- В каких единицах выражается содержание CO$_2$?\n",
    "- В каких пределах изменялась концентрация CO$_2$?\n",
    "- Какое разрешение данных?\n",
    "- Постройте график CO$_2$ в зависимости от возраста"
   ]
  },
  {
   "cell_type": "markdown",
   "id": "60c30a44",
   "metadata": {},
   "source": [
    "Для построения графика мы будем использовать функции `load_data` и `plot` из нашей библиотеки lksh. Давайте их импортируем:"
   ]
  },
  {
   "cell_type": "code",
   "execution_count": null,
   "id": "8f9e236c",
   "metadata": {},
   "outputs": [],
   "source": [
    "from lksh import load_data\n",
    "from lksh import plot"
   ]
  },
  {
   "cell_type": "markdown",
   "id": "ab4d4aaf",
   "metadata": {},
   "source": [
    "Зарузим данные:"
   ]
  },
  {
   "cell_type": "code",
   "execution_count": null,
   "id": "f9b9a030",
   "metadata": {
    "jupyter": {
     "outputs_hidden": true
    },
    "scrolled": true,
    "tags": []
   },
   "outputs": [],
   "source": [
    "age, co2 = load_data('data/filename.txt', unpack=True) # впишите нужное имя файла\n",
    "                                                       # здесь и далее весь текст после символа # означает комментарий\n",
    "                                                       # и интерператор не обращает на него внимания"
   ]
  },
  {
   "cell_type": "markdown",
   "id": "cece1148",
   "metadata": {},
   "source": [
    "Теперь строим график. Не забудьте подписать оси!"
   ]
  },
  {
   "cell_type": "code",
   "execution_count": null,
   "id": "4afae1fc",
   "metadata": {},
   "outputs": [],
   "source": [
    "# Раскомментируйте следующую строку и впишите нужные \"x\" и \"y\" в аргументы функции\n",
    "# plot(x, y) "
   ]
  },
  {
   "cell_type": "markdown",
   "id": "c2957027",
   "metadata": {
    "tags": []
   },
   "source": [
    "## Часть вторая: Температурные реконструкции по Гренландии и события Dansgaard Oeschger (DO)\n",
    "\n",
    "Откройте данные по изотопному составу Гренландского керна **GRIP ($\\delta^{18}$О) за 248 тысяч лет** (файл `data/easy/gripd18o.txt`).\n",
    "- Постройте график возраст/$\\delta^{18}$О за период 10000 лет – 50000 лет"
   ]
  },
  {
   "cell_type": "code",
   "execution_count": null,
   "id": "cb85a1aa",
   "metadata": {},
   "outputs": [],
   "source": [
    "# Загрузите данные:\n"
   ]
  },
  {
   "cell_type": "code",
   "execution_count": null,
   "id": "25c14816-d463-41e2-adb9-e12710559f0d",
   "metadata": {},
   "outputs": [],
   "source": [
    "# Постройте график age vs. d18O:\n",
    "\n",
    "# plot()"
   ]
  },
  {
   "cell_type": "markdown",
   "id": "8396e666",
   "metadata": {},
   "source": [
    "- Рассчитайте температуру по данным об изотопном составе T = $\\frac{13.7 + \\delta^{18}О}{0.67}$.\n",
    "\n",
    "В `python`, есть векторное представление данных. Можно смело складывать, вычитытать, делить и умножать данные (если они [нужного типа](https://numpy.org/doc/stable/reference/generated/numpy.array.html)):"
   ]
  },
  {
   "cell_type": "code",
   "execution_count": null,
   "id": "ffa7c644",
   "metadata": {},
   "outputs": [],
   "source": [
    "# Подставьте вместо d18O ваше название загруженной переменной с изотопом:\n",
    "T = (13.7 + d18O)/0.67"
   ]
  },
  {
   "cell_type": "markdown",
   "id": "8d006ad9",
   "metadata": {},
   "source": [
    "Напомним, что во время события Dansgaard Oeschger (DO) температура в Арктике сначала быстро повышается, а затем медленно понижается.\n",
    "- Постройте график зависимости температуры от возроста.\n",
    "- Найдите пример любого DO события и увеличьте его на графике. Чтобы увеличивать данные на графике, можно использовать ограничения по оси x или/и по оси y, то есть функции `xlim` и `ylim`."
   ]
  },
  {
   "cell_type": "code",
   "execution_count": null,
   "id": "8bc774e9",
   "metadata": {},
   "outputs": [],
   "source": [
    "from lksh import xlim, ylim\n",
    "\n",
    "# Постройте график age VS temperature\n",
    "\n",
    "# Чтобы выбрать нужный период, используйте функцию xlim :\n",
    "# xlim(минимум, максимум)\n",
    "\n",
    "# Можно выбрать промежуток и по оси y: \n",
    "# ylim(минимум, максимум)"
   ]
  },
  {
   "cell_type": "markdown",
   "id": "83ea4e93",
   "metadata": {},
   "source": [
    "- На сколько градусов повысилась температура и за какой срок?\n",
    "- Сколько времени потребовалось чтобы снова похолодало до уровня ледникового периода?"
   ]
  },
  {
   "cell_type": "markdown",
   "id": "37714684",
   "metadata": {},
   "source": [
    "## Часть третья: История оледенений. Температура и CO2."
   ]
  },
  {
   "cell_type": "markdown",
   "id": "af272356-c185-47d9-b467-b8e308d1005e",
   "metadata": {},
   "source": [
    "Скачайте данные по изотопному составу и температуре керна EPICA за 800 тысяч лет (`data/easy/edc3deuttemp2007.txt`).\n",
    "- Какие единицы измерения различных параметров?\n",
    "- Определите связь температуры и изотопного состава.\n"
   ]
  },
  {
   "cell_type": "code",
   "execution_count": null,
   "id": "8c814385-b754-474c-9243-e2de3f8cdbd2",
   "metadata": {},
   "outputs": [],
   "source": [
    "# Загрузите данные \n"
   ]
  },
  {
   "cell_type": "markdown",
   "id": "2256dd50-f371-4e3d-81d2-45f196db37d5",
   "metadata": {},
   "source": [
    "Постройте графики изменчивости температуры за весь период.\n",
    "- Сколько крупных переходов от ледниковья к межледниковью вы выделяете?\n",
    "- Определите перепад температуры межледниковий и ледниковий."
   ]
  },
  {
   "cell_type": "code",
   "execution_count": null,
   "id": "ae610bfd-3a0d-4a03-83a7-974ad7ccc3f4",
   "metadata": {},
   "outputs": [],
   "source": [
    "# Постройте график age vs. temperature\n"
   ]
  },
  {
   "cell_type": "markdown",
   "id": "e8280919-b17a-429a-b8aa-d68ae89277f0",
   "metadata": {},
   "source": [
    "На одном графике отобразите изменчивость температуры и CO$_2$ из первой части (файл `edc-co2-2008.txt`). Можете поделить/вычесть величины из данных для наглядности и сохранения масштаба."
   ]
  },
  {
   "cell_type": "code",
   "execution_count": null,
   "id": "ebb0e50a-56f9-402c-af92-05ba79e67cca",
   "metadata": {},
   "outputs": [],
   "source": [
    "# Постройте график age vs. temperature и age vs. CO2\n"
   ]
  },
  {
   "cell_type": "markdown",
   "id": "dfae28a6-09ea-4f21-8cb0-7e6053dd1571",
   "metadata": {
    "tags": []
   },
   "source": [
    "## Часть четвертая: Горные керны\n",
    "\n",
    "В файле `Elbrus_raw_data.txt` представлены данные содержания основных ионов в ледяном керне полученном летом 2009 г. "
   ]
  },
  {
   "cell_type": "code",
   "execution_count": null,
   "id": "c30b9532-fb62-484d-bad4-312573e60d73",
   "metadata": {},
   "outputs": [],
   "source": [
    "# Загрузите данные \n"
   ]
  },
  {
   "cell_type": "markdown",
   "id": "6b2a385b-1512-469f-8407-b1921b621a09",
   "metadata": {},
   "source": [
    "Постройте графики глубины и концентрации аммония (NH$_4$$^+$).\n",
    "- Определите в каком году сформировался горизонт на глубине 35.8-35.9 м.\n",
    "- Чем отличаются глубины? (mwe – meters water equivalent).\n",
    "- До какой глубины сезонный сигнал легко читается?"
   ]
  },
  {
   "cell_type": "code",
   "execution_count": null,
   "id": "db5d6a5e-3b96-4f6e-95c9-cac4d5f721ed",
   "metadata": {},
   "outputs": [],
   "source": [
    "# Постройте график глубины аммония\n"
   ]
  },
  {
   "cell_type": "code",
   "execution_count": null,
   "id": "f8bab4c3-152b-4eb9-ab1a-77cf1d983265",
   "metadata": {},
   "outputs": [],
   "source": [
    "# Постройте график концентрации аммония\n"
   ]
  },
  {
   "cell_type": "markdown",
   "id": "c9baf4fa-57e5-40bc-af04-bb5ec578eb9a",
   "metadata": {},
   "source": [
    "Откройте файл среднего за летний сезон содержания основных ионов (аммоний, нитраты, сульфаты) `Elbrus_annual_summer.txt`\n",
    "- Для каждого соединения определите во сколько раз концентрация увеличилась в последние 20 лет по сравнению с доиндустриальным временем.\n",
    "- В какой период времени начался активный рост концентрации?\n",
    "- Предположите возможные причины"
   ]
  },
  {
   "cell_type": "code",
   "execution_count": null,
   "id": "d881f30c",
   "metadata": {},
   "outputs": [],
   "source": []
  }
 ],
 "metadata": {
  "kernelspec": {
   "display_name": "Python 3 (ipykernel)",
   "language": "python",
   "name": "python3"
  },
  "language_info": {
   "codemirror_mode": {
    "name": "ipython",
    "version": 3
   },
   "file_extension": ".py",
   "mimetype": "text/x-python",
   "name": "python",
   "nbconvert_exporter": "python",
   "pygments_lexer": "ipython3",
   "version": "3.9.12"
  }
 },
 "nbformat": 4,
 "nbformat_minor": 5
}
